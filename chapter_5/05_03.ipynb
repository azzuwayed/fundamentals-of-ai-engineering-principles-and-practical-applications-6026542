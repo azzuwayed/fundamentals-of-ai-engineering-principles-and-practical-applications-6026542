{
 "cells": [
  {
   "cell_type": "markdown",
   "metadata": {},
   "source": "# ChromaDB Persistence and Performance\n\nThis notebook explores persistent storage and performance optimization in ChromaDB.\n\n## Learning Objectives\n\nBy the end of this notebook, you will be able to:\n- Set up persistent ChromaDB storage for production use\n- Measure and optimize vector database performance\n- Understand batch processing for efficient data ingestion\n- Implement best practices for production deployments\n\n## Why Persistence Matters\n\n- **Business continuity** - Data survives system restarts and crashes\n- **Cost effectiveness** - Avoid recomputing expensive embeddings\n- **Production readiness** - Essential for real-world applications\n- **Horizontal scaling** - Enables distributed architectures"
  },
  {
   "cell_type": "markdown",
   "metadata": {},
   "source": "## Setup: Install Required Libraries"
  },
  {
   "cell_type": "code",
   "execution_count": null,
   "metadata": {},
   "outputs": [],
   "source": "import os\nos.environ['UV_LINK_MODE'] = 'copy'\n\n!uv pip install accelerate==1.6.0 sentence-transformers==4.0.2\n\nprint(\"✓ Required libraries installed successfully!\")"
  },
  {
   "cell_type": "code",
   "execution_count": null,
   "metadata": {},
   "outputs": [],
   "source": "import chromadb\nfrom chromadb.utils import embedding_functions\nimport time\nimport numpy as np\nimport os\n\n# Setup persistent storage path\ndb_path = \"../scratch/chroma_db\"\nos.makedirs(db_path, exist_ok=True)\n\nprint(\"✓ Creating persistent ChromaDB client...\")\nclient = chromadb.PersistentClient(path=db_path)\n\nprint(\"✓ Setting up embedding function...\")\nembedding_function = embedding_functions.SentenceTransformerEmbeddingFunction(\n    model_name=\"all-MiniLM-L6-v2\"\n)\n\nprint(f\"\\n✓ Persistent storage configured!\")\nprint(f\"  Storage path: {db_path}\")\nprint(f\"  Embedding model: all-MiniLM-L6-v2\")"
  },
  {
   "cell_type": "code",
   "execution_count": 4,
   "metadata": {},
   "outputs": [],
   "source": [
    "# Helper function to display query results in a readable format\n",
    "def display_results(results):\n",
    "    print(\"\\nResults:\")\n",
    "    for i, (doc, doc_id, metadata, distance) in enumerate(zip(\n",
    "        results['documents'][0],\n",
    "        results['ids'][0],\n",
    "        results['metadatas'][0],\n",
    "        results['distances'][0]\n",
    "    )):\n",
    "        print(f\"{i+1}. Document: {doc}\")\n",
    "        print(f\"   ID: {doc_id}\")\n",
    "        print(f\"   Metadata: {metadata}\")\n",
    "        print(f\"   Distance: {distance}\")\n",
    "        print()"
   ]
  },
  {
   "cell_type": "markdown",
   "metadata": {},
   "source": [
    "## Creating and Using a Persistent Collection\n",
    "\n",
    "Below we create a persistent collection and add sample documents to demonstrate basic operations."
   ]
  },
  {
   "cell_type": "code",
   "execution_count": 5,
   "metadata": {},
   "outputs": [
    {
     "name": "stdout",
     "output_type": "stream",
     "text": [
      "Creating a persistent collection...\n",
      "\n",
      "Results:\n",
      "1. Document: This is a document that will be stored persistently\n",
      "   ID: pdoc1\n",
      "   Metadata: None\n",
      "   Distance: 0.7845402441433474\n",
      "\n"
     ]
    }
   ],
   "source": [
    "# Create a new collection with our embedding function\n",
    "print(\"Creating a persistent collection...\")\n",
    "persistent_collection = client.create_collection(\n",
    "    name=\"persistent_docs\",\n",
    "    embedding_function=embedding_function\n",
    ")\n",
    "\n",
    "# Sample documents about data persistence\n",
    "documents = [\n",
    "    \"This is a document that will be stored persistently\",\n",
    "    \"Vector databases need to persist data for production use\",\n",
    "    \"Data persistence ensures your embeddings survive restarts\"\n",
    "]\n",
    "\n",
    "# Add documents with unique IDs\n",
    "ids = [\"pdoc1\", \"pdoc2\", \"pdoc3\"]\n",
    "persistent_collection.add(\n",
    "    documents=documents,\n",
    "    ids=ids\n",
    ")\n",
    "\n",
    "# Query the collection to verify it works\n",
    "results = persistent_collection.query(\n",
    "    query_texts=[\"persistent data storage\"],\n",
    "    n_results=1\n",
    ")\n",
    "\n",
    "display_results(results)"
   ]
  },
  {
   "cell_type": "markdown",
   "metadata": {},
   "source": [
    "## Why Performance Matters\n",
    "\n",
    "When working with vector databases in production, performance becomes critical for several reasons:\n",
    "\n",
    "- **User Experience**: Slow query responses lead to poor user experiences\n",
    "- **Resource Utilization**: Inefficient operations consume excessive computational resources\n",
    "- **Scaling Challenges**: Performance problems compound as your data grows\n",
    "- **Cost Implications**: In cloud environments, inefficient operations directly impact costs\n",
    "\n",
    "Below we'll conduct a simple performance test with a larger dataset."
   ]
  },
  {
   "cell_type": "code",
   "execution_count": null,
   "metadata": {},
   "outputs": [],
   "source": "print(\"=\" * 80)\nprint(\"PERFORMANCE BENCHMARK\")\nprint(\"=\" * 80)\n\n# Create collection for testing\ncollection = client.create_collection(name=\"performance_test\", embedding_function=embedding_function)\n\n# Generate synthetic documents\nprint(\"\\nGenerating synthetic documents...\")\nwords = [\"AI\", \"machine\", \"learning\", \"vector\", \"database\", \"embedding\", \"neural\",\n         \"network\", \"transformer\", \"data\", \"science\", \"engineering\", \"model\"]\n\nnum_docs = 1000\ndocuments = [\" \".join(np.random.choice(words, size=np.random.randint(10, 20))) for _ in range(num_docs)]\nids = [f\"perf_doc_{i}\" for i in range(num_docs)]\n\n# Benchmark document insertion\nprint(f\"\\nAdding {num_docs:,} documents in batches...\")\nstart_time = time.time()\nbatch_size = 100\nfor i in range(0, num_docs, batch_size):\n    collection.add(documents=documents[i:i+batch_size], ids=ids[i:i+batch_size])\nadd_time = time.time() - start_time\n\nprint(f\"✓ Insertion complete!\")\nprint(f\"  Total time: {add_time:.2f}s\")\nprint(f\"  Throughput: {num_docs/add_time:.0f} docs/second\")\n\n# Benchmark queries\nprint(f\"\\nBenchmarking queries...\")\nquery_times = []\nfor i in range(5):\n    query = \" \".join(np.random.choice(words, size=5))\n    start = time.time()\n    collection.query(query_texts=[query], n_results=10)\n    query_times.append(time.time() - start)\n\nprint(f\"✓ Query benchmark complete!\")\nprint(f\"  Average query time: {np.mean(query_times)*1000:.1f}ms\")\nprint(f\"  Min: {min(query_times)*1000:.1f}ms, Max: {max(query_times)*1000:.1f}ms\")"
  },
  {
   "cell_type": "markdown",
   "metadata": {},
   "source": [
    "## Performance Test Results\n",
    "\n",
    "Let's visualize the query performance results with a chart:"
   ]
  },
  {
   "cell_type": "code",
   "execution_count": 7,
   "metadata": {},
   "outputs": [
    {
     "data": {
      "image/png": "[encoded data removed]",
      "text/plain": [
       "<Figure size 1000x500 with 1 Axes>"
      ]
     },
     "metadata": {},
     "output_type": "display_data"
    }
   ],
   "source": [
    "# Visualizing query performance\n",
    "import matplotlib.pyplot as plt\n",
    "\n",
    "plt.figure(figsize=(10, 5))\n",
    "plt.bar(range(1, num_queries + 1), query_times, color='skyblue')\n",
    "plt.axhline(y=np.mean(query_times), color='r', linestyle='-', label=f'Average: {np.mean(query_times):.4f}s')\n",
    "plt.xlabel('Query Number')\n",
    "plt.ylabel('Time (seconds)')\n",
    "plt.title('Query Performance')\n",
    "plt.legend()\n",
    "plt.tight_layout()\n",
    "plt.show()"
   ]
  },
  {
   "cell_type": "markdown",
   "metadata": {},
   "source": [
    "## Key Takeaways\n",
    "\n",
    "1. **Persistence**: ChromaDB's PersistentClient provides an easy way to store vector embeddings on disk\n",
    "2. **Performance**: \n",
    "   - Batch processing improves throughput when adding documents\n",
    "   - Query performance remains fast even with 1000 documents (~13ms)\n",
    "   - Consider monitoring performance as your collection size grows\n",
    "3. **Production Readiness**:\n",
    "   - Use persistent storage in production environments\n",
    "   - Implement proper error handling\n",
    "   - Consider scaling strategies for larger datasets"
   ]
  },
  {
   "cell_type": "markdown",
   "metadata": {},
   "source": [
    "## Best Practices for Production Use\n",
    "\n",
    "1. **Indexing Strategy**: For larger collections (>100K documents), consider using HNSW indexing (see next chapter for info).\n",
    "   ```python\n",
    "   collection = client.create_collection(\n",
    "       name=\"large_collection\",\n",
    "       metadata={\"hnsw:space\": \"cosine\", \"hnsw:construction_ef\": 100, \"hnsw:search_ef\": 50}\n",
    "   )\n",
    "   ```\n",
    "\n",
    "2. **Metadata Usage**: Enhance documents with metadata for filtering\n",
    "   ```python\n",
    "   collection.add(\n",
    "       documents=[\"Document text...\"],\n",
    "       ids=[\"unique_id\"],\n",
    "       metadatas=[{\"category\": \"finance\", \"date\": \"2025-04-01\"}]\n",
    "   )\n",
    "   ```\n",
    "\n",
    "3. **Hybrid Search**: Combine vector search with metadata filtering\n",
    "   ```python\n",
    "   results = collection.query(\n",
    "       query_texts=[\"finance report\"],\n",
    "       where={\"category\": \"finance\"},\n",
    "       n_results=5\n",
    "   )\n",
    "   ```\n",
    "\n",
    "4. **Regular Backups**: Implement a backup strategy for your database directory"
   ]
  }
 ],
 "metadata": {
  "kernelspec": {
   "display_name": ".venv",
   "language": "python",
   "name": "python3"
  },
  "language_info": {
   "codemirror_mode": {
    "name": "ipython",
    "version": 3
   },
   "file_extension": ".py",
   "mimetype": "text/x-python",
   "name": "python",
   "nbconvert_exporter": "python",
   "pygments_lexer": "ipython3",
   "version": "3.12.9"
  }
 },
 "nbformat": 4,
 "nbformat_minor": 2
}