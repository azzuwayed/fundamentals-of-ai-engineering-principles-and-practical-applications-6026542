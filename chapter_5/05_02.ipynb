{
 "cells": [
  {
   "cell_type": "markdown",
   "metadata": {},
   "source": "# ChromaDB Semantic Search\n\nThis notebook demonstrates using ChromaDB, a vector database for building semantic search systems.\n\n## Learning Objectives\n\nBy the end of this notebook, you will be able to:\n- Initialize ChromaDB clients and create collections\n- Add documents with embeddings to vector databases\n- Perform semantic searches using vector similarity\n- Filter results using metadata and content queries\n- Update and delete documents in collections\n\n## What is ChromaDB?\n\nChromaDB is an open-source vector database designed for:\n- Storing document embeddings efficiently\n- Fast semantic similarity search\n- Metadata filtering and hybrid queries\n- Simple Python API for easy integration"
  },
  {
   "cell_type": "markdown",
   "metadata": {},
   "source": "## Setup: Install Required Libraries"
  },
  {
   "cell_type": "code",
   "execution_count": null,
   "metadata": {},
   "outputs": [],
   "source": "import os\nos.environ['UV_LINK_MODE'] = 'copy'\n\n!uv pip install accelerate==1.6.0 sentence-transformers==4.0.2\n\nprint(\"✓ Required libraries installed successfully!\")"
  },
  {
   "cell_type": "code",
   "execution_count": null,
   "metadata": {},
   "outputs": [],
   "source": "import chromadb\nfrom chromadb.utils import embedding_functions\n\nprint(\"✓ Libraries imported successfully!\")"
  },
  {
   "cell_type": "code",
   "execution_count": null,
   "metadata": {},
   "outputs": [],
   "source": "# Initialize ChromaDB client (in-memory)\nprint(\"Initializing ChromaDB client...\")\nclient = chromadb.Client()\n\n# Create embedding function\nembedding_function = embedding_functions.SentenceTransformerEmbeddingFunction(\n    model_name=\"all-MiniLM-L6-v2\"\n)\n\nprint(\"✓ ChromaDB client initialized!\")\nprint(f\"  Embedding model: all-MiniLM-L6-v2 (384 dimensions)\")"
  },
  {
   "cell_type": "markdown",
   "metadata": {},
   "source": "## Create Collection\n\n**Collections** organize documents in ChromaDB (similar to tables in databases)."
  },
  {
   "cell_type": "code",
   "execution_count": null,
   "metadata": {},
   "outputs": [],
   "source": "# Create collection for documents\ncollection = client.create_collection(\n    name=\"documents\",\n    embedding_function=embedding_function\n)\n\nprint(\"✓ Collection 'documents' created successfully!\")"
  },
  {
   "cell_type": "markdown",
   "metadata": {},
   "source": "## Helper Function for Displaying Results"
  },
  {
   "cell_type": "code",
   "execution_count": null,
   "metadata": {},
   "outputs": [],
   "source": "def display_results(results):\n    \"\"\"Display ChromaDB search results in readable format\"\"\"\n    print(\"\\nSearch Results:\")\n    print(\"=\" * 80)\n    for i, (doc, doc_id, metadata, distance) in enumerate(zip(\n        results['documents'][0],\n        results['ids'][0],\n        results['metadatas'][0] if results['metadatas'] else [None] * len(results['ids'][0]),\n        results['distances'][0]\n    ), 1):\n        print(f\"\\n{i}. Document: {doc}\")\n        print(f\"   ID: {doc_id}\")\n        if metadata:\n            print(f\"   Metadata: {metadata}\")\n        print(f\"   Distance: {distance:.4f} (lower = more similar)\")\n    print(\"\\n\" + \"=\" * 80)\n\nprint(\"✓ Helper function defined!\")"
  },
  {
   "cell_type": "markdown",
   "metadata": {},
   "source": [
    "## Basic Vector Operations\n",
    "\n",
    "Adding documents and performing simple semantic search."
   ]
  },
  {
   "cell_type": "code",
   "execution_count": null,
   "metadata": {},
   "outputs": [],
   "source": "print(\"=\" * 80)\nprint(\"BASIC VECTOR OPERATIONS\")\nprint(\"=\" * 80)\n\n# Example documents\ndocuments = [\n    \"The quick brown fox jumps over the lazy dog\",\n    \"A man is walking his dog in the park\",\n    \"The weather is sunny and warm today\",\n    \"Artificial intelligence is transforming the technology landscape\",\n    \"Vector databases are essential for semantic search applications\",\n    \"Deep learning models require substantial computational resources\",\n    \"The city skyline looks beautiful at sunset\",\n    \"Machine learning algorithms find patterns in data\"\n]\nids = [\"doc1\", \"doc2\", \"doc3\", \"doc4\", \"doc5\", \"doc6\", \"doc7\", \"doc8\"]\n\n# Add documents\nprint(f\"\\nAdding {len(documents)} documents to collection...\")\ncollection.add(documents=documents, ids=ids)\nprint(f\"✓ Documents added! Collection count: {collection.count()}\")\n\n# Perform semantic search\nquery_text = \"AI and technology trends\"\nprint(f\"\\nSearching for: '{query_text}'\")\nresults = collection.query(query_texts=[query_text], n_results=3)\n\ndisplay_results(results)"
  },
  {
   "cell_type": "markdown",
   "metadata": {},
   "source": [
    "## Working with Metadata and Filtering\n",
    "\n",
    "ChromaDB allows attaching metadata to documents and filtering searches based on this metadata."
   ]
  },
  {
   "cell_type": "code",
   "execution_count": null,
   "metadata": {},
   "outputs": [],
   "source": "print(\"=\" * 80)\nprint(\"METADATA AND FILTERING\")\nprint(\"=\" * 80)\n\n# Create new collection with metadata\nfiltered_docs_collection = client.create_collection(\n    name=\"filtered_documents\",\n    embedding_function=embedding_function\n)\n\n# Metadata for documents\nmetadatas = [\n    {\"category\": \"animal\", \"length\": \"short\", \"year\": 2021},\n    {\"category\": \"lifestyle\", \"length\": \"short\", \"year\": 2022},\n    {\"category\": \"weather\", \"length\": \"short\", \"year\": 2023},\n    {\"category\": \"technology\", \"length\": \"medium\", \"year\": 2023},\n    {\"category\": \"technology\", \"length\": \"medium\", \"year\": 2024},\n    {\"category\": \"technology\", \"length\": \"long\", \"year\": 2024},\n    {\"category\": \"travel\", \"length\": \"short\", \"year\": 2023},\n    {\"category\": \"technology\", \"length\": \"medium\", \"year\": 2024}\n]\n\nprint(\"\\nAdding documents with metadata...\")\nfiltered_docs_collection.add(documents=documents, ids=ids, metadatas=metadatas)\nprint(f\"✓ Added {filtered_docs_collection.count()} documents with metadata\")"
  },
  {
   "cell_type": "markdown",
   "metadata": {},
   "source": [
    "## Simple Metadata Filtering"
   ]
  },
  {
   "cell_type": "code",
   "execution_count": null,
   "metadata": {},
   "outputs": [],
   "source": "# Simple metadata filter\nprint(\"\\n\" + \"─\" * 80)\nprint(\"Filter: category='technology'\")\nprint(\"─\" * 80)\nresults = filtered_docs_collection.query(\n    query_texts=[\"AI advancements\"],\n    n_results=3,\n    where={\"category\": \"technology\"}\n)\ndisplay_results(results)"
  },
  {
   "cell_type": "markdown",
   "metadata": {},
   "source": [
    "## Complex Metadata Filtering\n",
    "\n",
    "Using logical operators for more advanced filtering."
   ]
  },
  {
   "cell_type": "code",
   "execution_count": null,
   "metadata": {},
   "outputs": [],
   "source": "# Complex filter with AND logic\nprint(\"\\n\" + \"─\" * 80)\nprint(\"Complex Filter: category='technology' AND year=2024\")\nprint(\"─\" * 80)\nresults = filtered_docs_collection.query(\n    query_texts=[\"AI advancements\"],\n    n_results=3,\n    where={\"$and\": [\n        {\"category\": {\"$eq\": \"technology\"}},\n        {\"year\": {\"$eq\": 2024}}\n    ]}\n)\ndisplay_results(results)"
  },
  {
   "cell_type": "markdown",
   "metadata": {},
   "source": [
    "## Content-Based Filtering"
   ]
  },
  {
   "cell_type": "code",
   "execution_count": null,
   "metadata": {},
   "outputs": [],
   "source": "# Content-based filter\nprint(\"\\n\" + \"─\" * 80)\nprint(\"Content Filter: Documents containing 'Artificial intelligence'\")\nprint(\"─\" * 80)\nresults = filtered_docs_collection.query(\n    query_texts=[\"AI advancements\"],\n    n_results=3,\n    where_document={\"$contains\": \"Artificial intelligence\"}\n)\ndisplay_results(results)"
  },
  {
   "cell_type": "markdown",
   "metadata": {},
   "source": [
    "## Document Management\n",
    "\n",
    "ChromaDB provides methods for updating and deleting documents."
   ]
  },
  {
   "cell_type": "code",
   "execution_count": null,
   "metadata": {},
   "outputs": [],
   "source": "print(\"=\" * 80)\nprint(\"DOCUMENT MANAGEMENT\")\nprint(\"=\" * 80)\n\n# Get document\nprint(\"\\n1. GET document by ID:\")\nresult = collection.get(ids=[\"doc1\"])\nprint(f\"   Original: {result['documents'][0]}\")\n\n# Update document\nprint(\"\\n2. UPDATE document:\")\ncollection.update(\n    ids=[\"doc1\"],\n    documents=[\"The quick silver fox leaps over the sleepy hound\"]\n)\nresult = collection.get(ids=[\"doc1\"])\nprint(f\"   ✓ Updated: {result['documents'][0]}\")\n\n# Delete document\nprint(\"\\n3. DELETE document:\")\ncollection.delete(ids=[\"doc2\"])\nprint(f\"   ✓ Deleted doc2. Collection now has {collection.count()} documents\")\n\nprint(\"\\n\" + \"=\" * 80)"
  }
 ],
 "metadata": {
  "kernelspec": {
   "display_name": ".venv",
   "language": "python",
   "name": "python3"
  },
  "language_info": {
   "codemirror_mode": {
    "name": "ipython",
    "version": 3
   },
   "file_extension": ".py",
   "mimetype": "text/x-python",
   "name": "python",
   "nbconvert_exporter": "python",
   "pygments_lexer": "ipython3",
   "version": "3.12.9"
  }
 },
 "nbformat": 4,
 "nbformat_minor": 2
}