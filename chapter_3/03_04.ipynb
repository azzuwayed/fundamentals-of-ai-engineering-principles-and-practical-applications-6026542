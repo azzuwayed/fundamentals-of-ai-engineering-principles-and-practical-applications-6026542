{
 "cells": [
  {
   "cell_type": "markdown",
   "metadata": {},
   "source": "# Working with Document Metadata\n\nMetadata provides critical context about documents that enhances search, retrieval, and organization. In this notebook, we'll explore how to extract, attach, and use metadata in document processing pipelines.\n\n## Learning Objectives\n\nBy the end of this notebook, you will be able to:\n- Extract metadata from document content and filenames\n- Attach metadata to LlamaIndex Document objects\n- Propagate metadata through node parsing\n- Understand common metadata fields and their uses\n\n## Why Metadata Matters\n\nMetadata enriches documents with contextual information:\n- **Context** - Author, date, source, topic information\n- **Filtering** - Find documents from specific date ranges or sources\n- **Relevance** - Identify which documents are most important\n- **Organization** - Group related documents together\n- **Search enhancement** - Improve retrieval accuracy with metadata filters"
  },
  {
   "cell_type": "code",
   "execution_count": null,
   "metadata": {},
   "outputs": [],
   "source": "## Extracting and Attaching Metadata\n\nfrom llama_index.core import Document\nfrom llama_index.core.node_parser import SimpleNodeParser\nimport os\nfrom datetime import datetime\n\n# Sample document with metadata potential\nsample_doc = \"\"\"\n# Annual Report 2023\n## Financial Performance\nOur company achieved record profits in 2023, with revenue increasing 15% compared to 2022.\n\n## Product Launches\nThe new X1000 product line was launched in March 2023 and has exceeded sales expectations.\n\n## Future Outlook\nWe expect continued growth in 2024, driven by expansion into European markets.\n\"\"\"\n\n# Document file information\nfilename = \"annual_report_2023.md\"\nfile_path = f\"/documents/{filename}\"\n\ndef extract_basic_metadata(content, filename, file_path):\n    \"\"\"\n    Extract basic metadata from document content and file information.\n    \n    Args:\n        content (str): Document text\n        filename (str): Name of the file\n        file_path (str): Full path to the file\n        \n    Returns:\n        dict: Extracted metadata\n    \"\"\"\n    # Extract file information\n    file_metadata = {\n        \"file_name\": filename,\n        \"file_path\": file_path,\n        \"file_type\": os.path.splitext(filename)[1][1:],  # Extension without dot\n        \"file_size\": len(content),  # Size in characters\n        \"extracted_date\": datetime.now().strftime(\"%Y-%m-%d\")\n    }\n\n    # Extract year from content or filename\n    for year in [\"2024\", \"2023\", \"2022\"]:\n        if year in content or year in filename:\n            file_metadata[\"year\"] = year\n            break\n\n    # Detect document type\n    content_lower = content.lower()\n    filename_lower = filename.lower()\n    \n    if \"annual report\" in content_lower or \"annual report\" in filename_lower:\n        file_metadata[\"document_type\"] = \"annual_report\"\n    elif \"quarterly report\" in content_lower or \"quarterly\" in filename_lower:\n        file_metadata[\"document_type\"] = \"quarterly_report\"\n\n    return file_metadata\n\n# Extract metadata\nmetadata = extract_basic_metadata(sample_doc, filename, file_path)\n\n# Create document with metadata\ndoc = Document(text=sample_doc, metadata=metadata)\n\n# Display document with metadata\nprint(\"Document Created:\\n\")\nprint(\"=\" * 80)\nprint(f\"Text (first 100 chars): {doc.text[:100]}...\\n\")\n\nprint(\"Metadata:\")\nfor key, value in doc.metadata.items():\n    print(f\"  {key:<20}: {value}\")\n\nprint(\"\\n✓ Metadata extracted and attached to document\")"
  },
  {
   "cell_type": "code",
   "execution_count": null,
   "metadata": {},
   "outputs": [],
   "source": "## Metadata Propagation to Nodes\n\n# Create nodes with metadata propagation\nparser = SimpleNodeParser.from_defaults()\nnodes = parser.get_nodes_from_documents([doc])\n\nprint(\"Metadata Propagation:\\n\")\nprint(\"=\" * 80)\nprint(f\"\\nNodes created: {len(nodes)}\")\nprint(f\"Node text length: {len(nodes[0].text)} characters\\n\")\n\nprint(\"Node metadata (inherited from document):\")\nfor key, value in nodes[0].metadata.items():\n    print(f\"  {key:<20}: {value}\")\n\nprint(\"\\n✓ Metadata automatically propagated from document to nodes\")\nprint(\"\\nThis ensures metadata is preserved throughout the processing pipeline,\")\nprint(\"enabling filtered search and retrieval at the node level.\")"
  },
  {
   "cell_type": "markdown",
   "source": "## Summary\n\nWe've explored how to work with document metadata in LlamaIndex:\n\n### Key Concepts\n\n1. **Metadata Extraction** - Extract from:\n   - File information (name, path, type, size)\n   - Content analysis (dates, document types)\n   - Timestamps (extraction date)\n\n2. **Metadata Attachment** - Attach to Document objects:\n   - Pass as `metadata` parameter\n   - Use dictionary format\n   - Include relevant contextual fields\n\n3. **Metadata Propagation** - Automatically flows to:\n   - Nodes created from documents\n   - Chunks generated by parsers\n   - All downstream processing steps\n\n### Common Metadata Fields\n\n- **Source info**: `file_name`, `file_path`, `file_type`\n- **Temporal**: `year`, `date`, `extracted_date`\n- **Classification**: `document_type`, `category`, `topic`\n- **Size**: `file_size`, `page_count`, `word_count`\n- **Origin**: `author`, `source`, `url`\n\n### Best Practices\n\n- Extract metadata early in the pipeline\n- Use consistent field names across documents\n- Include both file-based and content-based metadata\n- Document your metadata schema\n- Test metadata propagation through your pipeline\n\nMetadata is essential for building sophisticated search and retrieval systems that go beyond simple text matching.",
   "metadata": {}
  }
 ],
 "metadata": {
  "kernelspec": {
   "display_name": ".venv",
   "language": "python",
   "name": "python3"
  },
  "language_info": {
   "codemirror_mode": {
    "name": "ipython",
    "version": 3
   },
   "file_extension": ".py",
   "mimetype": "text/x-python",
   "name": "python",
   "nbconvert_exporter": "python",
   "pygments_lexer": "ipython3",
   "version": "3.12.9"
  }
 },
 "nbformat": 4,
 "nbformat_minor": 2
}